{
 "cells": [
  {
   "cell_type": "markdown",
   "metadata": {},
   "source": [
    "# /////////////////////////////////////////////////////////////////////////////////////////////////\n",
    "# dealing with files\n",
    "\n",
    "# .jpg  / .png / .mp4\n",
    "\n",
    "\n",
    "\n",
    "# /////////////////////////////////////////////////////////////////////////////////////////////////\n"
   ]
  },
  {
   "cell_type": "markdown",
   "metadata": {},
   "source": [
    "![text](https://inductivebiblestudyapp.com/wp-content/uploads/2017/06/godhands-820x400.jpg)"
   ]
  },
  {
   "cell_type": "markdown",
   "metadata": {},
   "source": [
    "# <font color='gray'>TABLE OF CONTENT</font>\n",
    "\n",
    "## > Set-Up <font color='blue'>your workspace</font>\n",
    "    • Installation of ffmpeg\n",
    "    • set up working directory\n",
    "    • move your files to right directory\n",
    "    • open the right directory / folder\n",
    "\n",
    "## > ffmpeg tools: <font color='blue'>handling IMAGE files</font>\n",
    "    i-1 ffmpeg: Scale pictures\n",
    "    i-2 ffmpeg: JPG --> PNG\n",
    "    i-3 ffmpeg: PNG --> JPG\n",
    "    i-4 ffmpeg: image.png + background.png\n",
    "\n",
    "## > ffmpeg tools: <font color='blue'>handling VIDEO files</font>\n",
    "    v-1 ffmpeg: video --> .jpg sequence\n",
    "    v-2 ffmpeg: .png sequence --> video\n",
    "    v-3 ffmpeg: cropping files: .jpg .mp4 and so one\n",
    "    v-4 ffmpeg: delete part of video (seconds)\n",
    "    v-5 ffmpeg: merge 2 videos side-by-side \n",
    "    v-6 ffmpeg: add background image to video \n",
    "    v-7 ffmpeg: slide video from right to left\n",
    "    v-8 ffmpeg: scale video\n",
    "    v-9 ffmpeg: rotate video\n",
    "    v-10 ffmpeg: cut timing video\n",
    "    v-11 ffmpeg: video loop\n",
    "\n",
    "## > rename <font color='blue'>files</font>\n",
    "    • Bulk re-name files \n",
    "        • Option 1\n",
    "        • Option 2\n",
    "\n",
    "\n",
    "## > download <font color='blue'>videos</font>\n",
    "    • youtube-dl \n",
    "\n",
    "## > ImageMagick <font color='blue'>tool for image editing</font>\n",
    "    • Morphing PNGs \n",
    "\n",
    "## > delete <font color='blue'>files</font>\n",
    "    • delete picture 00000.png of every folder\n",
    "\n",
    "## + additional <font color='blue'>links</font>\n"
   ]
  },
  {
   "cell_type": "markdown",
   "metadata": {},
   "source": [
    "--------------\n",
    "--------------\n",
    "--------------\n",
    "--------------\n",
    "# /////////////////////////////////////////////////////////////////////////////////////////////////\n",
    "# /////////////////////////////////////////////////////////////////////////////////////////////////\n",
    "--------------\n",
    "--------------\n",
    "--------------\n",
    "--------------\n",
    "#  > Set-Up <font color='blue'>your workspace:</font>\n",
    "--------------\n",
    "--------------\n",
    "--------------\n",
    "--------------\n",
    "## <font color='red'> • Installation of ffmpeg </font>\n"
   ]
  },
  {
   "cell_type": "code",
   "execution_count": null,
   "metadata": {},
   "outputs": [],
   "source": [
    "!pip install ffmpeg"
   ]
  },
  {
   "cell_type": "markdown",
   "metadata": {},
   "source": [
    "\n",
    "## <font color='red'> • set up working directory </font>\n",
    "\n",
    "Now that we've got our requirements installed we need to set up our working directory.\n",
    "Let's create a new folder called \"ffmpeg_workstation\" within the user directory.\n",
    "Within that folder we then create two subdirectories \"raw_images\" and \"edited_images\".\n",
    "Create new directory:\n",
    "\n",
    "    •• ffmpeg_workstation\n",
    "         • 1_raw_images\n",
    "         • 2_edited_images\n",
    "\n",
    "create directory:"
   ]
  },
  {
   "cell_type": "code",
   "execution_count": null,
   "metadata": {},
   "outputs": [],
   "source": [
    "%%bash\n",
    "cd \n",
    "mkdir ffmpeg_workstation\n",
    "cd ffmpeg_workstation\n",
    "mkdir 1_raw_images 2_edited_images"
   ]
  },
  {
   "cell_type": "markdown",
   "metadata": {},
   "source": [
    "\n",
    "\n",
    "## <font color='red'> • move your files to right directory </font>\n",
    "__Here you have 2 options:__\n",
    "\n",
    "                                             | \n",
    "    1. manually using drag'n'drop            |        2. using command line to move your files\n",
    "    ------------------------------------------------------------------------------------------\n",
    "                                             | \n",
    "      • If you use this option               |           • All you have to do is to\n",
    "        you can ignore the next              |             adjust the first path:\n",
    "        command.                             |             \n",
    "                                             |                ~/Desktop/your_source_folder/*\n",
    "      • Just move your files to              |           \n",
    "        folder: 1_raw_images                 |             \n",
    "                                             |           • replace this path with \n",
    "      • Continue with your                   |             your path and run the \n",
    "        desired ffmpeg command.              |             command to move your \n",
    "                                             |             files\n",
    "                                             | "
   ]
  },
  {
   "cell_type": "code",
   "execution_count": null,
   "metadata": {},
   "outputs": [],
   "source": [
    "%%bash\n",
    "cd ~\n",
    "mv ~/Desktop/your_source_folder/* ~/ffmpeg_workstation/1_raw_images"
   ]
  },
  {
   "cell_type": "markdown",
   "metadata": {},
   "source": [
    "\n",
    "## <font color='red'> • open the right directory / folder </font>"
   ]
  },
  {
   "cell_type": "code",
   "execution_count": null,
   "metadata": {},
   "outputs": [],
   "source": [
    "%%bash\n",
    "cd\n",
    "cd ~/ffmpeg_workstation/1_raw_images"
   ]
  },
  {
   "cell_type": "markdown",
   "metadata": {},
   "source": [
    "--------------\n",
    "--------------\n",
    "--------------\n",
    "--------------\n",
    "# /////////////////////////////////////////////////////////////////////////////////////////////////\n",
    "# /////////////////////////////////////////////////////////////////////////////////////////////////\n",
    "--------------\n",
    "--------------\n",
    "--------------\n",
    "--------------\n",
    "#  > ffmpeg tools:  <font color='blue'>handling IMAGE files</font>\n",
    "--------------\n",
    "--------------\n",
    "--------------\n",
    "--------------\n",
    "\n",
    "## <font color='red'> i-1 ffmpeg: Scale pictures </font>\n",
    "\n",
    "\n",
    "adjust the scale = __512x512__\n",
    "\n"
   ]
  },
  {
   "cell_type": "code",
   "execution_count": null,
   "metadata": {},
   "outputs": [],
   "source": [
    "%%bash\n",
    "cd\n",
    "cd ~/ffmpeg_workstation/1_raw_images\n",
    "sh\n",
    "for file in *; do\n",
    "      ffmpeg -i \\\n",
    "      ~/ffmpeg_workstation/1_raw_images/\"$file\" \\\n",
    "      -vf scale=512:512 \\\n",
    "      ~/ffmpeg_workstation/2_edited_images/\"${file%}\"\n",
    "done "
   ]
  },
  {
   "cell_type": "markdown",
   "metadata": {},
   "source": [
    "--------------\n",
    "--------------\n",
    "--------------\n",
    "--------------\n",
    "## <font color='red'> i-2 ffmpeg: JPG --> PNG </font>"
   ]
  },
  {
   "cell_type": "code",
   "execution_count": null,
   "metadata": {},
   "outputs": [],
   "source": [
    "%%bash\n",
    "cd\n",
    "cd ~/ffmpeg_workstation/1_raw_images\n",
    "sh\n",
    "for file in *; do\n",
    "      ffmpeg -i \\\n",
    "      ~/ffmpeg_workstation/1_raw_images/\"$file\" \\\n",
    "      ~/ffmpeg_workstation/2_edited_images/\"${file%.jpg}\".png\n",
    "done"
   ]
  },
  {
   "cell_type": "markdown",
   "metadata": {},
   "source": [
    "--------------\n",
    "--------------\n",
    "--------------\n",
    "--------------\n",
    "## <font color='red'>i-3 ffmpeg: PNG --> JPG </font>"
   ]
  },
  {
   "cell_type": "code",
   "execution_count": null,
   "metadata": {},
   "outputs": [],
   "source": [
    "%%bash\n",
    "cd\n",
    "cd ~/ffmpeg_workstation/1_raw_images\n",
    "sh\n",
    "for file in *; do\n",
    "      ffmpeg -i \\\n",
    "      ~/ffmpeg_workstation/1_raw_images/\"$file\" \\\n",
    "      ~/ffmpeg_workstation/2_edited_images/\"${file%.png}\".jpg\n",
    "done"
   ]
  },
  {
   "cell_type": "markdown",
   "metadata": {},
   "source": [
    "--------------\n",
    "--------------\n",
    "--------------\n",
    "--------------\n",
    "\n",
    "## <font color='red'> i-4 ffmpeg: image.png + background.png </font>"
   ]
  },
  {
   "cell_type": "code",
   "execution_count": null,
   "metadata": {},
   "outputs": [],
   "source": []
  },
  {
   "cell_type": "markdown",
   "metadata": {},
   "source": [
    "--------------\n",
    "--------------\n",
    "--------------\n",
    "--------------\n",
    "# /////////////////////////////////////////////////////////////////////////////////////////////////\n",
    "# /////////////////////////////////////////////////////////////////////////////////////////////////\n",
    "--------------\n",
    "--------------\n",
    "--------------\n",
    "--------------\n",
    "#  > ffmpeg tools:  <font color='blue'>handling VIDEO files</font>\n",
    "--------------\n",
    "--------------\n",
    "--------------\n",
    "--------------\n",
    "## <font color='red'> v-1 ffmpeg: video --> .jpg sequence </font>"
   ]
  },
  {
   "cell_type": "code",
   "execution_count": null,
   "metadata": {},
   "outputs": [],
   "source": [
    "%%bash\n",
    "cd\n",
    "cd ~/ffmpeg_workstation/1_raw_images\n",
    "sh\n",
    "a=111\n",
    "for file in *; do\n",
    "      mkdir ~/ffmpeg_workstation/croped/\"$file\"\n",
    "      ffmpeg -i \\\n",
    "      ~/ffmpeg_workstation/1_raw_images/\"$file\" \\\n",
    "      -qscale:v 2 \\\n",
    "      -vf crop=1024:1024 \\\n",
    "      ~/ffmpeg_workstation/croped/\"$file\"/\"$a\"_%05d.jpg\n",
    "      let a=a+1\n",
    "done"
   ]
  },
  {
   "cell_type": "code",
   "execution_count": null,
   "metadata": {},
   "outputs": [],
   "source": [
    "      -qscale:v 2 \\\n",
    "      -vf crop=1024:1024 \\"
   ]
  },
  {
   "cell_type": "markdown",
   "metadata": {},
   "source": [
    "--------------\n",
    "--------------\n",
    "--------------\n",
    "--------------\n",
    "## <font color='red'> v-2 ffmpeg: .png sequence --> video </font>"
   ]
  },
  {
   "cell_type": "code",
   "execution_count": null,
   "metadata": {},
   "outputs": [],
   "source": [
    "-vf setpts=5*PTS \\"
   ]
  },
  {
   "cell_type": "code",
   "execution_count": null,
   "metadata": {},
   "outputs": [],
   "source": [
    "%%bash\n",
    "cd ~\n",
    "cd ~/ffmpeg_workstation/1_raw_images\n",
    "sh\n",
    "ffmpeg -i %05d.png \\\n",
    "    -framerate 25 \\\n",
    "    -c:v libx264 \\\n",
    "    -preset veryslow \\\n",
    "    -qp 18 \\\n",
    "    -pix_fmt yuv420p \\\n",
    "    video1.mp4"
   ]
  },
  {
   "cell_type": "markdown",
   "metadata": {},
   "source": [
    "--------------\n",
    "--------------\n",
    "--------------\n",
    "--------------\n",
    "## <font color='red'> v-3 ffmpeg: cropping files: .jpg .mp4 and so one </font>"
   ]
  },
  {
   "cell_type": "code",
   "execution_count": null,
   "metadata": {},
   "outputs": [],
   "source": []
  },
  {
   "cell_type": "code",
   "execution_count": null,
   "metadata": {},
   "outputs": [],
   "source": [
    "cd ~/ffmpeg_workstation/1_raw_images"
   ]
  },
  {
   "cell_type": "code",
   "execution_count": null,
   "metadata": {},
   "outputs": [],
   "source": [
    "%%bash\n",
    "cd\n",
    "cd ~/ffmpeg_workstation/1_raw_images\n",
    "sh\n",
    "for file in *; do\n",
    "      ffmpeg -i \\\n",
    "      ~/ffmpeg_workstation/1_raw_images/\"$file\" \\\n",
    "      -vf crop=1024:1024 \\\n",
    "      ~/ffmpeg_workstation/2_edited_images/\"$file\"\n",
    "done "
   ]
  },
  {
   "cell_type": "code",
   "execution_count": null,
   "metadata": {},
   "outputs": [],
   "source": [
    "      -vf crop=512:288:0:224 \\"
   ]
  },
  {
   "cell_type": "code",
   "execution_count": null,
   "metadata": {},
   "outputs": [],
   "source": [
    "      -vf crop=2048:1152:0:896 \\"
   ]
  },
  {
   "cell_type": "code",
   "execution_count": null,
   "metadata": {},
   "outputs": [],
   "source": [
    "      -vf crop=1024:1024 \\"
   ]
  },
  {
   "cell_type": "code",
   "execution_count": null,
   "metadata": {},
   "outputs": [],
   "source": [
    "      -vf \"crop=512:288:0:224\" \\"
   ]
  },
  {
   "cell_type": "code",
   "execution_count": null,
   "metadata": {},
   "outputs": [],
   "source": [
    "      -vf crop=1024:512 \\"
   ]
  },
  {
   "cell_type": "code",
   "execution_count": null,
   "metadata": {},
   "outputs": [],
   "source": [
    "      -vf crop=1024:512:0:512 \\"
   ]
  },
  {
   "cell_type": "markdown",
   "metadata": {},
   "source": [
    "--------------\n",
    "--------------\n",
    "--------------\n",
    "--------------\n",
    "## <font color='red'> v-4 ffmpeg: delete part of video (seconds) </font>\n",
    "\n",
    "adjusted for a folder full of videos\n",
    "\n",
    "(color videos)"
   ]
  },
  {
   "cell_type": "code",
   "execution_count": null,
   "metadata": {},
   "outputs": [],
   "source": [
    "%%bash\n",
    "cd\n",
    "cd ~/ffmpeg_workstation/1_raw_images\n",
    "sh\n",
    "for file in *; do\n",
    "starting_time=0\n",
    "cut_duration=30\n",
    "input_duration=$(ffprobe -v error -select_streams v:0 -show_entries stream=duration -of default=noprint_wrappers=1:nokey=1 \"$file\")\n",
    "output_duration=$(bc <<< \"$input_duration\"-\"$cut_duration\")\n",
    "  ffmpeg -ss \"$starting_time\" -i \"$file\" -map 0 -c copy -t \"$output_duration\" \\\n",
    "  ~/ffmpeg_workstation/2_edited_images/\"${file%}\"\n",
    "done"
   ]
  },
  {
   "cell_type": "markdown",
   "metadata": {},
   "source": [
    "--------------\n",
    "--------------\n",
    "--------------\n",
    "--------------\n",
    "## <font color='red'> v-5 ffmpeg: merge 2 videos side-by-side </font>"
   ]
  },
  {
   "cell_type": "markdown",
   "metadata": {},
   "source": [
    "__right.mp4 + left.mp4__"
   ]
  },
  {
   "cell_type": "code",
   "execution_count": null,
   "metadata": {},
   "outputs": [],
   "source": [
    "%%bash\n",
    "cd\n",
    "cd ~/ffmpeg_workstation/1_raw_images\n",
    "ffmpeg -i video_1_right.mp4 -i video_2_left.mp4 -filter_complex \"hstack,format=yuv420p\" -c:v libx264 -crf 18 result_video.mp4"
   ]
  },
  {
   "cell_type": "markdown",
   "metadata": {},
   "source": [
    "__top.mp4 + bottom.mp4__"
   ]
  },
  {
   "cell_type": "code",
   "execution_count": null,
   "metadata": {},
   "outputs": [],
   "source": [
    "%%bash\n",
    "cd\n",
    "cd ~/ffmpeg_workstation/1_raw_images\n",
    "ffmpeg -i video_1_top.mp4 -i video_2_bottom.mp4 -filter_complex \"vstack,format=yuv420p\" -c:v libx264 -crf 18 result_video.mp4"
   ]
  },
  {
   "cell_type": "markdown",
   "metadata": {},
   "source": [
    "--------------\n",
    "--------------\n",
    "--------------\n",
    "--------------\n",
    "## <font color='red'> v-6 ffmpeg: add background image to video </font>"
   ]
  },
  {
   "cell_type": "code",
   "execution_count": null,
   "metadata": {},
   "outputs": [],
   "source": [
    "%%bash\n",
    "cd\n",
    "cd ~/ffmpeg_workstation/1_raw_images\n",
    "ffmpeg -loop 1 -i background_image.jpg -i video_1.mp4 -filter_complex \"overlay=840:(H-h)/2:shortest=1\" result_video.mp4"
   ]
  },
  {
   "cell_type": "markdown",
   "metadata": {},
   "source": [
    "__center video__"
   ]
  },
  {
   "cell_type": "code",
   "execution_count": null,
   "metadata": {},
   "outputs": [],
   "source": [
    "-filter_complex \"overlay=(W-w)/2:(H-h)/2:shortest=1\""
   ]
  },
  {
   "cell_type": "markdown",
   "metadata": {},
   "source": [
    "--------------\n",
    "--------------\n",
    "--------------\n",
    "--------------\n",
    "## <font color='red'> v-7 ffmpeg: slide video from right to left </font>\n",
    "\n",
    "(W-w)*(mod(t\\,T))/(T/2)\n",
    "\n",
    "T = duration of the slide"
   ]
  },
  {
   "cell_type": "code",
   "execution_count": null,
   "metadata": {},
   "outputs": [],
   "source": [
    "%%bash\n",
    "cd\n",
    "cd ~/ffmpeg_workstation/1_raw_images\n",
    "ffmpeg -i background_image.jpg -i video_1.mp4 \\\n",
    "    -filter_complex overlay=x='(W-w)*(mod(t\\,360))/(360/2)':y=H-h \\\n",
    "    result_video.mp4"
   ]
  },
  {
   "cell_type": "markdown",
   "metadata": {},
   "source": [
    "__slide from top to bottom__"
   ]
  },
  {
   "cell_type": "code",
   "execution_count": null,
   "metadata": {},
   "outputs": [],
   "source": [
    "%%bash\n",
    "cd\n",
    "cd ~/ffmpeg_workstation/1_raw_images\n",
    "ffmpeg -i background_image.jpg -i video_1.mp4 \\\n",
    "    -framerate 25 -c:v libx264 -pix_fmt yuv420p \\\n",
    "    -filter_complex overlay=x=W-w:y='(H-h)*(mod(t\\,120))/(120/2)' \\\n",
    "    result_video.mp4"
   ]
  },
  {
   "cell_type": "markdown",
   "metadata": {},
   "source": [
    "--------------\n",
    "--------------\n",
    "--------------\n",
    "--------------\n",
    "## <font color='red'> v-8 ffmpeg: scale video </font>"
   ]
  },
  {
   "cell_type": "code",
   "execution_count": null,
   "metadata": {},
   "outputs": [],
   "source": []
  },
  {
   "cell_type": "code",
   "execution_count": null,
   "metadata": {},
   "outputs": [],
   "source": [
    "%%bash\n",
    "cd\n",
    "cd ~/ffmpeg_workstation/1_raw_images\n",
    "ffmpeg -i video_1.mp4 -vf scale=1080:1080 result_video.mp4"
   ]
  },
  {
   "cell_type": "markdown",
   "metadata": {},
   "source": [
    "--------------\n",
    "--------------\n",
    "--------------\n",
    "--------------\n",
    "## <font color='red'> v-9 ffmpeg: rotate video </font>\n",
    "\n",
    "0 = 90CounterCLockwise and Vertical Flip (default)\n",
    "\n",
    "1 = 90Clockwise\n",
    "\n",
    "2 = 90CounterClockwise\n",
    "\n",
    "3 = 90Clockwise and Vertical Flip"
   ]
  },
  {
   "cell_type": "code",
   "execution_count": null,
   "metadata": {},
   "outputs": [],
   "source": [
    "%%bash\n",
    "cd\n",
    "cd ~/ffmpeg_workstation/1_raw_images\n",
    "ffmpeg -i video_1.mp4 -vf \"transpose=2\" result_video.mp4"
   ]
  },
  {
   "cell_type": "markdown",
   "metadata": {},
   "source": [
    "--------------\n",
    "--------------\n",
    "--------------\n",
    "--------------\n",
    "## <font color='red'> v-10 ffmpeg: cut timing video </font>"
   ]
  },
  {
   "cell_type": "code",
   "execution_count": null,
   "metadata": {},
   "outputs": [],
   "source": [
    "%%bash\n",
    "cd\n",
    "cd ~/ffmpeg_workstation/1_raw_images\n",
    "ffmpeg -ss 00:00:00.00 -i video_1.mp4 -to 00:01:00.00 \\\n",
    "    -framerate 25 \\\n",
    "    -c:v libx264 \\\n",
    "    -c copy result_video.mp4"
   ]
  },
  {
   "cell_type": "markdown",
   "metadata": {},
   "source": [
    "--------------\n",
    "--------------\n",
    "--------------\n",
    "--------------\n",
    "## <font color='red'> v-11 ffmpeg: video loop </font>"
   ]
  },
  {
   "cell_type": "code",
   "execution_count": null,
   "metadata": {},
   "outputs": [],
   "source": [
    "%%bash\n",
    "cd\n",
    "cd ~/ffmpeg_workstation/1_raw_images\n",
    "ffmpeg -stream_loop 22 -i video_1.mp4 -c copy result_video.mp4\n"
   ]
  },
  {
   "cell_type": "markdown",
   "metadata": {},
   "source": [
    "--------------\n",
    "--------------\n",
    "--------------\n",
    "--------------\n",
    "# /////////////////////////////////////////////////////////////////////////////////////////////////\n",
    "# /////////////////////////////////////////////////////////////////////////////////////////////////\n",
    "--------------\n",
    "--------------\n",
    "--------------\n",
    "--------------\n",
    "# > rename <font color='blue'> files</font>\n",
    "--------------\n",
    "\n",
    "## <font color='red'> Bulk re-name files </font>\n",
    "\n",
    "directory: __~/ffmpeg_workstation/1_raw_images__\n",
    "\n",
    "Adjust the path if needed\n",
    "\n",
    "              \n",
    "\n",
    "\n",
    "## <font color='red'> • Option 1 </font>\n",
    "   \n",
    "If you have __1 folder__ with JPGs and you want to rename them\n",
    "\n",
    "                      ----> \n",
    "        •folder                   •folder\n",
    "            *.jpg                     00001.jpg\n",
    "            *.jpg                     00002.jpg\n",
    "            *.jpg                     00003.jpg\n",
    "            *.jpg                     00004.jpg\n",
    "            *.jpg                     00005.jpg\n",
    "            *.jpg                     00006.jpg\n",
    "            *.jpg                     00007.jpg\n",
    "            *.jpg                     00008.jpg\n",
    "            *.jpg                        ...jpg\n"
   ]
  },
  {
   "cell_type": "code",
   "execution_count": null,
   "metadata": {},
   "outputs": [],
   "source": [
    "%%bash\n",
    "cd \n",
    "cd ~/ffmpeg_workstation/1_raw_images\n",
    "sh\n",
    "a=1\n",
    "for i in *png; do\n",
    "  new=$(printf \"%05d.png\" \"$a\")\n",
    "  mv -i -- \"$i\" \"$new\"\n",
    "  let a=a+1\n",
    "done"
   ]
  },
  {
   "cell_type": "markdown",
   "metadata": {},
   "source": [
    " \n",
    "## <font color='red'> • Option 2 </font>\n",
    "   \n",
    "If you have __many folders__ and you want to collect all the JPGs from __all sub-directories__ and rename them\n",
    "\n",
    "                      ----> \n",
    "    •folder                       •folder\n",
    "        ••folder                      00001.jpg\n",
    "            *.jpg                     00002.jpg\n",
    "            *.jpg                     00003.jpg\n",
    "            *.jpg                     00004.jpg\n",
    "            *.jpg                     00005.jpg\n",
    "        ••folder                      00006.jpg\n",
    "            *.jpg                     00007.jpg\n",
    "            *.jpg                     00008.jpg\n",
    "            *.jpg                        ...jpg\n",
    "            *.jpg                     ••folder (now empty)\n",
    "                                      ••folder (now empty)"
   ]
  },
  {
   "cell_type": "code",
   "execution_count": null,
   "metadata": {
    "scrolled": true
   },
   "outputs": [],
   "source": [
    "%%bash\n",
    "cd \n",
    "cd ~/ffmpeg_workstation/1_raw_images\n",
    "sh\n",
    "a=0\n",
    "for i in */*png; do\n",
    "  new=$(printf \"%05d.png\" \"$a\")\n",
    "  mv -i -- \"$i\" \"$new\"\n",
    "  let a=a+1\n",
    "done"
   ]
  },
  {
   "cell_type": "markdown",
   "metadata": {},
   "source": [
    "--------------\n",
    "--------------\n",
    "--------------\n",
    "--------------\n",
    "# /////////////////////////////////////////////////////////////////////////////////////////////////\n",
    "# /////////////////////////////////////////////////////////////////////////////////////////////////\n",
    "--------------\n",
    "--------------\n",
    "--------------\n",
    "--------------\n",
    "# > download <font color='blue'> videos</font>\n",
    "--------------\n",
    "--------------\n",
    "--------------\n",
    "--------------\n",
    "\n",
    "## <font color='red'> youtube-dl </font>\n",
    "   \n",
    "download all videos in a playlist\n",
    "\n",
    "pip install youtube-dl\n",
    "\n",
    "https://github.com/ytdl-org/youtube-dl"
   ]
  },
  {
   "cell_type": "code",
   "execution_count": null,
   "metadata": {},
   "outputs": [],
   "source": [
    "%%bash\n",
    "cd \n",
    "cd ~/ffmpeg_workstation/1_raw_images\n",
    "sh\n",
    "youtube-dl \\\n",
    "-i \\\n",
    "-f 137 \\\n",
    "--yes-playlist \\\n",
    "--playlist-start 275 \\\n",
    "'https://www.youtube.com/'"
   ]
  },
  {
   "cell_type": "code",
   "execution_count": null,
   "metadata": {},
   "outputs": [],
   "source": [
    "-f mp4 \\ 275"
   ]
  },
  {
   "cell_type": "markdown",
   "metadata": {},
   "source": [
    "--------------\n",
    "--------------\n",
    "--------------\n",
    "--------------\n",
    "# /////////////////////////////////////////////////////////////////////////////////////////////////\n",
    "# /////////////////////////////////////////////////////////////////////////////////////////////////\n",
    "--------------\n",
    "--------------\n",
    "--------------\n",
    "--------------\n",
    "# > ImageMagick <font color='blue'> tool for image editing </font>\n",
    "--------------\n",
    "--------------\n",
    "--------------\n",
    "--------------\n",
    "## <font color='red'> • Morphing PNGs </font>\n",
    "   "
   ]
  },
  {
   "cell_type": "code",
   "execution_count": null,
   "metadata": {},
   "outputs": [],
   "source": [
    "%%bash\n",
    "cd \n",
    "cd ~/ffmpeg_workstation/1_raw_images\n",
    "convert \\\n",
    "\\( 00000.png 00001.png -morph 50 -duplicate 25,-1 \\) \\\n",
    "\\( 00001.png 00002.png -morph 50 -duplicate 25,-1 \\) \\\n",
    "\\( 00002.png 00003.png \\) \\\n",
    "output.png"
   ]
  },
  {
   "cell_type": "code",
   "execution_count": null,
   "metadata": {},
   "outputs": [],
   "source": [
    "%%bash\n",
    "cd \n",
    "cd ~/ffmpeg_workstation/1_raw_images\n",
    "sh\n",
    "a=1\n",
    "for file in *; do\n",
    "mkdir ~/ffmpeg_workstation/test_folder/\"$a\"\n",
    "new=$(printf \"%05d.png\" \"$a\")\n",
    "convert \"$file\" \"$new\" -morph 2 ~/ffmpeg_workstation/test_folder/\"$a\"/\"%05d.png\"\n",
    "let a=a+1\n",
    "done"
   ]
  },
  {
   "cell_type": "markdown",
   "metadata": {},
   "source": [
    "--------------\n",
    "--------------\n",
    "--------------\n",
    "--------------\n",
    "# /////////////////////////////////////////////////////////////////////////////////////////////////\n",
    "# /////////////////////////////////////////////////////////////////////////////////////////////////\n",
    "--------------\n",
    "--------------\n",
    "--------------\n",
    "--------------\n",
    "# > delete <font color='blue'> files</font>\n",
    "--------------\n",
    "--------------\n",
    "--------------\n",
    "--------------\n",
    "## <font color='red'> • delete picture 00000.png of every folder</font>\n",
    "   "
   ]
  },
  {
   "cell_type": "code",
   "execution_count": null,
   "metadata": {},
   "outputs": [],
   "source": [
    "%%bash\n",
    "cd \n",
    "cd ~/ffmpeg_workstation/1_raw_images\n",
    "sh\n",
    "a=2\n",
    "for i in */*; do\n",
    "  cd \"$a\"\n",
    "  rm 00000.png\n",
    "  cd \n",
    "  cd ~/ffmpeg_workstation/1_raw_images\n",
    "  let a=a+1\n",
    "done"
   ]
  },
  {
   "cell_type": "markdown",
   "metadata": {},
   "source": [
    "--------------\n",
    "--------------\n",
    "--------------\n",
    "--------------\n",
    "# /////////////////////////////////////////////////////////////////////////////////////////////////\n",
    "# /////////////////////////////////////////////////////////////////////////////////////////////////\n",
    "--------------\n",
    "--------------\n",
    "--------------\n",
    "--------------\n",
    "# + additional <font color='blue'> links </font>\n",
    "--------------\n",
    "--------------\n",
    "https://www.oodlestechnologies.com/blogs/Crop-and-scale-image-using-ffmpeg/\n",
    "\n",
    "https://github.com/xiumingzhang/cheatsheets/blob/master/ffmpeg-imagemagick.md\n",
    "\n",
    "https://trac.ffmpeg.org/wiki\n",
    "\n",
    "http://ericholsinger.com/install-ffmpeg-on-a-mac\n",
    "\n",
    "https://askubuntu.com/questions/700896/how-do-i-transcode-all-files-in-a-directory-with-ffmpeg\n",
    "\n",
    "\n"
   ]
  }
 ],
 "metadata": {
  "kernelspec": {
   "display_name": "Python 3",
   "language": "python",
   "name": "python3"
  },
  "language_info": {
   "codemirror_mode": {
    "name": "ipython",
    "version": 3
   },
   "file_extension": ".py",
   "mimetype": "text/x-python",
   "name": "python",
   "nbconvert_exporter": "python",
   "pygments_lexer": "ipython3",
   "version": "3.6.8"
  }
 },
 "nbformat": 4,
 "nbformat_minor": 4
}
